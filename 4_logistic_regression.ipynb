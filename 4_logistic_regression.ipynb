{
 "cells": [
  {
   "cell_type": "markdown",
   "metadata": {},
   "source": [
    "# Logistic Regression\n",
    "\n",
    "### Contrary to it's name Logistic Regression does classification and not regression (prediction). It is non-linear in nature therefore fits better with data with curves ie corelation is not linear\n",
    "\n",
    "Logistic regression involves finding the \"best fit\" curve\n",
    "\n",
    "$$p(y_{i}) = \\frac{1}{1 + e^-(A+B_{i})}$$\n",
    "\n",
    "* A is the intercept\n",
    "* B is the regression coefficent\n",
    "* e is the constant (eulers number 2.71828 )\n",
    "\n",
    "* Output of classification modle is always a probability score. We set a threshold and output on basis of that.\n",
    "* Classification is for predicting categorical data.\n",
    "* It fits a curve on our data."
   ]
  },
  {
   "cell_type": "code",
   "execution_count": 3,
   "metadata": {},
   "outputs": [],
   "source": [
    "import pandas as pd\n",
    "import matplotlib.pyplot as plt"
   ]
  },
  {
   "cell_type": "code",
   "execution_count": 4,
   "metadata": {},
   "outputs": [
    {
     "data": {
      "text/html": [
       "<div>\n",
       "<style scoped>\n",
       "    .dataframe tbody tr th:only-of-type {\n",
       "        vertical-align: middle;\n",
       "    }\n",
       "\n",
       "    .dataframe tbody tr th {\n",
       "        vertical-align: top;\n",
       "    }\n",
       "\n",
       "    .dataframe thead th {\n",
       "        text-align: right;\n",
       "    }\n",
       "</style>\n",
       "<table border=\"1\" class=\"dataframe\">\n",
       "  <thead>\n",
       "    <tr style=\"text-align: right;\">\n",
       "      <th></th>\n",
       "      <th>longitude</th>\n",
       "      <th>latitude</th>\n",
       "      <th>housing_median_age</th>\n",
       "      <th>total_rooms</th>\n",
       "      <th>total_bedrooms</th>\n",
       "      <th>population</th>\n",
       "      <th>households</th>\n",
       "      <th>median_income</th>\n",
       "      <th>median_house_value</th>\n",
       "      <th>ocean_proximity</th>\n",
       "    </tr>\n",
       "  </thead>\n",
       "  <tbody>\n",
       "    <tr>\n",
       "      <th>7263</th>\n",
       "      <td>-118.23</td>\n",
       "      <td>33.99</td>\n",
       "      <td>37.0</td>\n",
       "      <td>378.0</td>\n",
       "      <td>176.0</td>\n",
       "      <td>714.0</td>\n",
       "      <td>156.0</td>\n",
       "      <td>2.1912</td>\n",
       "      <td>112500.0</td>\n",
       "      <td>&lt;1H OCEAN</td>\n",
       "    </tr>\n",
       "    <tr>\n",
       "      <th>8211</th>\n",
       "      <td>-118.18</td>\n",
       "      <td>33.79</td>\n",
       "      <td>27.0</td>\n",
       "      <td>1580.0</td>\n",
       "      <td>510.0</td>\n",
       "      <td>1896.0</td>\n",
       "      <td>448.0</td>\n",
       "      <td>2.0186</td>\n",
       "      <td>130000.0</td>\n",
       "      <td>NEAR OCEAN</td>\n",
       "    </tr>\n",
       "    <tr>\n",
       "      <th>8741</th>\n",
       "      <td>-118.32</td>\n",
       "      <td>33.82</td>\n",
       "      <td>25.0</td>\n",
       "      <td>2587.0</td>\n",
       "      <td>512.0</td>\n",
       "      <td>1219.0</td>\n",
       "      <td>509.0</td>\n",
       "      <td>4.4271</td>\n",
       "      <td>382100.0</td>\n",
       "      <td>&lt;1H OCEAN</td>\n",
       "    </tr>\n",
       "    <tr>\n",
       "      <th>13085</th>\n",
       "      <td>-121.35</td>\n",
       "      <td>38.56</td>\n",
       "      <td>16.0</td>\n",
       "      <td>2629.0</td>\n",
       "      <td>491.0</td>\n",
       "      <td>1265.0</td>\n",
       "      <td>485.0</td>\n",
       "      <td>4.5066</td>\n",
       "      <td>140200.0</td>\n",
       "      <td>INLAND</td>\n",
       "    </tr>\n",
       "    <tr>\n",
       "      <th>6468</th>\n",
       "      <td>-118.05</td>\n",
       "      <td>34.10</td>\n",
       "      <td>42.0</td>\n",
       "      <td>2065.0</td>\n",
       "      <td>404.0</td>\n",
       "      <td>1313.0</td>\n",
       "      <td>402.0</td>\n",
       "      <td>4.0179</td>\n",
       "      <td>274300.0</td>\n",
       "      <td>INLAND</td>\n",
       "    </tr>\n",
       "  </tbody>\n",
       "</table>\n",
       "</div>"
      ],
      "text/plain": [
       "       longitude  latitude  housing_median_age  total_rooms  total_bedrooms  \\\n",
       "7263     -118.23     33.99                37.0        378.0           176.0   \n",
       "8211     -118.18     33.79                27.0       1580.0           510.0   \n",
       "8741     -118.32     33.82                25.0       2587.0           512.0   \n",
       "13085    -121.35     38.56                16.0       2629.0           491.0   \n",
       "6468     -118.05     34.10                42.0       2065.0           404.0   \n",
       "\n",
       "       population  households  median_income  median_house_value  \\\n",
       "7263        714.0       156.0         2.1912            112500.0   \n",
       "8211       1896.0       448.0         2.0186            130000.0   \n",
       "8741       1219.0       509.0         4.4271            382100.0   \n",
       "13085      1265.0       485.0         4.5066            140200.0   \n",
       "6468       1313.0       402.0         4.0179            274300.0   \n",
       "\n",
       "      ocean_proximity  \n",
       "7263        <1H OCEAN  \n",
       "8211       NEAR OCEAN  \n",
       "8741        <1H OCEAN  \n",
       "13085          INLAND  \n",
       "6468           INLAND  "
      ]
     },
     "execution_count": 4,
     "metadata": {},
     "output_type": "execute_result"
    }
   ],
   "source": [
    "housing_data = pd.read_csv('datasets/housing.csv')\n",
    "\n",
    "housing_data.sample(5)"
   ]
  },
  {
   "cell_type": "code",
   "execution_count": 5,
   "metadata": {},
   "outputs": [],
   "source": [
    "housing_data = housing_data.dropna()"
   ]
  },
  {
   "cell_type": "markdown",
   "metadata": {},
   "source": [
    "#### As there is lots of data towards the upper cap this makes the data skewed. It will create hindrance in our model. So we drop this data.\n",
    "\n",
    "#### In order to rectify such situation Exploratory Analysis is important before modelling."
   ]
  },
  {
   "cell_type": "code",
   "execution_count": 6,
   "metadata": {},
   "outputs": [
    {
     "data": {
      "text/plain": [
       "(19475, 10)"
      ]
     },
     "execution_count": 6,
     "metadata": {},
     "output_type": "execute_result"
    }
   ],
   "source": [
    "housing_data = housing_data.drop(housing_data.loc[housing_data['median_house_value'] == 500001].index)\n",
    "housing_data.shape"
   ]
  },
  {
   "cell_type": "code",
   "execution_count": 7,
   "metadata": {},
   "outputs": [],
   "source": [
    "#### All the values except ocean_approximity are already neumerical. As ML models accept only numerical data we need to convert it.\n",
    "\n",
    "#### We will do so using <a href=\"https://en.wikipedia.org/wiki/One-hot\">one-hot encoding</a>"
   ]
  },
  {
   "cell_type": "code",
   "execution_count": 8,
   "metadata": {},
   "outputs": [
    {
     "data": {
      "text/plain": [
       "(19475, 14)"
      ]
     },
     "execution_count": 8,
     "metadata": {},
     "output_type": "execute_result"
    }
   ],
   "source": [
    "# pd.get_dummies() will convert column to numeric one and remove the original column from dataset\n",
    "\n",
    "housing_data = pd.get_dummies(housing_data, columns=['ocean_proximity'])\n",
    "housing_data.shape"
   ]
  },
  {
   "cell_type": "markdown",
   "metadata": {},
   "source": [
    "We will convert values to median to convert it from regression problem to classification problem"
   ]
  },
  {
   "cell_type": "code",
   "execution_count": 9,
   "metadata": {},
   "outputs": [
    {
     "data": {
      "text/plain": [
       "173800.0"
      ]
     },
     "execution_count": 9,
     "metadata": {},
     "output_type": "execute_result"
    }
   ],
   "source": [
    "median = housing_data['median_house_value'].median()\n",
    "\n",
    "median"
   ]
  },
  {
   "cell_type": "markdown",
   "metadata": {},
   "source": [
    "#### Create a boolean column. Values will be decided if house_value is above or below median.\n",
    "\n",
    "#### This makes it a binary classifiaction problem. {True or False}"
   ]
  },
  {
   "cell_type": "code",
   "execution_count": 11,
   "metadata": {},
   "outputs": [
    {
     "data": {
      "text/html": [
       "<div>\n",
       "<style scoped>\n",
       "    .dataframe tbody tr th:only-of-type {\n",
       "        vertical-align: middle;\n",
       "    }\n",
       "\n",
       "    .dataframe tbody tr th {\n",
       "        vertical-align: top;\n",
       "    }\n",
       "\n",
       "    .dataframe thead th {\n",
       "        text-align: right;\n",
       "    }\n",
       "</style>\n",
       "<table border=\"1\" class=\"dataframe\">\n",
       "  <thead>\n",
       "    <tr style=\"text-align: right;\">\n",
       "      <th></th>\n",
       "      <th>longitude</th>\n",
       "      <th>latitude</th>\n",
       "      <th>housing_median_age</th>\n",
       "      <th>total_rooms</th>\n",
       "      <th>total_bedrooms</th>\n",
       "      <th>population</th>\n",
       "      <th>households</th>\n",
       "      <th>median_income</th>\n",
       "      <th>median_house_value</th>\n",
       "      <th>ocean_proximity_&lt;1H OCEAN</th>\n",
       "      <th>ocean_proximity_INLAND</th>\n",
       "      <th>ocean_proximity_ISLAND</th>\n",
       "      <th>ocean_proximity_NEAR BAY</th>\n",
       "      <th>ocean_proximity_NEAR OCEAN</th>\n",
       "      <th>above_median</th>\n",
       "    </tr>\n",
       "  </thead>\n",
       "  <tbody>\n",
       "    <tr>\n",
       "      <th>3488</th>\n",
       "      <td>-118.57</td>\n",
       "      <td>34.29</td>\n",
       "      <td>4.0</td>\n",
       "      <td>6995.0</td>\n",
       "      <td>1151.0</td>\n",
       "      <td>2907.0</td>\n",
       "      <td>1089.0</td>\n",
       "      <td>7.0808</td>\n",
       "      <td>341200.0</td>\n",
       "      <td>1</td>\n",
       "      <td>0</td>\n",
       "      <td>0</td>\n",
       "      <td>0</td>\n",
       "      <td>0</td>\n",
       "      <td>True</td>\n",
       "    </tr>\n",
       "    <tr>\n",
       "      <th>20530</th>\n",
       "      <td>-121.76</td>\n",
       "      <td>38.57</td>\n",
       "      <td>11.0</td>\n",
       "      <td>15018.0</td>\n",
       "      <td>3008.0</td>\n",
       "      <td>7984.0</td>\n",
       "      <td>2962.0</td>\n",
       "      <td>3.1371</td>\n",
       "      <td>201800.0</td>\n",
       "      <td>0</td>\n",
       "      <td>1</td>\n",
       "      <td>0</td>\n",
       "      <td>0</td>\n",
       "      <td>0</td>\n",
       "      <td>True</td>\n",
       "    </tr>\n",
       "    <tr>\n",
       "      <th>7056</th>\n",
       "      <td>-118.03</td>\n",
       "      <td>33.92</td>\n",
       "      <td>35.0</td>\n",
       "      <td>2108.0</td>\n",
       "      <td>405.0</td>\n",
       "      <td>1243.0</td>\n",
       "      <td>394.0</td>\n",
       "      <td>3.6731</td>\n",
       "      <td>167000.0</td>\n",
       "      <td>1</td>\n",
       "      <td>0</td>\n",
       "      <td>0</td>\n",
       "      <td>0</td>\n",
       "      <td>0</td>\n",
       "      <td>False</td>\n",
       "    </tr>\n",
       "    <tr>\n",
       "      <th>8240</th>\n",
       "      <td>-118.19</td>\n",
       "      <td>33.77</td>\n",
       "      <td>21.0</td>\n",
       "      <td>2103.0</td>\n",
       "      <td>727.0</td>\n",
       "      <td>1064.0</td>\n",
       "      <td>603.0</td>\n",
       "      <td>1.6178</td>\n",
       "      <td>137500.0</td>\n",
       "      <td>0</td>\n",
       "      <td>0</td>\n",
       "      <td>0</td>\n",
       "      <td>0</td>\n",
       "      <td>1</td>\n",
       "      <td>False</td>\n",
       "    </tr>\n",
       "    <tr>\n",
       "      <th>3526</th>\n",
       "      <td>-118.51</td>\n",
       "      <td>34.27</td>\n",
       "      <td>36.0</td>\n",
       "      <td>2276.0</td>\n",
       "      <td>429.0</td>\n",
       "      <td>1001.0</td>\n",
       "      <td>419.0</td>\n",
       "      <td>4.1042</td>\n",
       "      <td>252100.0</td>\n",
       "      <td>1</td>\n",
       "      <td>0</td>\n",
       "      <td>0</td>\n",
       "      <td>0</td>\n",
       "      <td>0</td>\n",
       "      <td>True</td>\n",
       "    </tr>\n",
       "  </tbody>\n",
       "</table>\n",
       "</div>"
      ],
      "text/plain": [
       "       longitude  latitude  housing_median_age  total_rooms  total_bedrooms  \\\n",
       "3488     -118.57     34.29                 4.0       6995.0          1151.0   \n",
       "20530    -121.76     38.57                11.0      15018.0          3008.0   \n",
       "7056     -118.03     33.92                35.0       2108.0           405.0   \n",
       "8240     -118.19     33.77                21.0       2103.0           727.0   \n",
       "3526     -118.51     34.27                36.0       2276.0           429.0   \n",
       "\n",
       "       population  households  median_income  median_house_value  \\\n",
       "3488       2907.0      1089.0         7.0808            341200.0   \n",
       "20530      7984.0      2962.0         3.1371            201800.0   \n",
       "7056       1243.0       394.0         3.6731            167000.0   \n",
       "8240       1064.0       603.0         1.6178            137500.0   \n",
       "3526       1001.0       419.0         4.1042            252100.0   \n",
       "\n",
       "       ocean_proximity_<1H OCEAN  ocean_proximity_INLAND  \\\n",
       "3488                           1                       0   \n",
       "20530                          0                       1   \n",
       "7056                           1                       0   \n",
       "8240                           0                       0   \n",
       "3526                           1                       0   \n",
       "\n",
       "       ocean_proximity_ISLAND  ocean_proximity_NEAR BAY  \\\n",
       "3488                        0                         0   \n",
       "20530                       0                         0   \n",
       "7056                        0                         0   \n",
       "8240                        0                         0   \n",
       "3526                        0                         0   \n",
       "\n",
       "       ocean_proximity_NEAR OCEAN  above_median  \n",
       "3488                            0          True  \n",
       "20530                           0          True  \n",
       "7056                            0         False  \n",
       "8240                            1         False  \n",
       "3526                            0          True  "
      ]
     },
     "execution_count": 11,
     "metadata": {},
     "output_type": "execute_result"
    }
   ],
   "source": [
    "housing_data['above_median'] = (housing_data['median_house_value'] - median) > 0\n",
    "housing_data.sample(5)"
   ]
  },
  {
   "cell_type": "code",
   "execution_count": 12,
   "metadata": {},
   "outputs": [
    {
     "data": {
      "text/plain": [
       "Index(['longitude', 'latitude', 'housing_median_age', 'total_rooms',\n",
       "       'total_bedrooms', 'population', 'households', 'median_income',\n",
       "       'ocean_proximity_<1H OCEAN', 'ocean_proximity_INLAND',\n",
       "       'ocean_proximity_ISLAND', 'ocean_proximity_NEAR BAY',\n",
       "       'ocean_proximity_NEAR OCEAN'],\n",
       "      dtype='object')"
      ]
     },
     "execution_count": 12,
     "metadata": {},
     "output_type": "execute_result"
    }
   ],
   "source": [
    "X = housing_data.drop(['median_house_value', 'above_median'], axis=1)\n",
    "Y = housing_data['above_median']\n",
    "\n",
    "X.columns"
   ]
  },
  {
   "cell_type": "code",
   "execution_count": 13,
   "metadata": {},
   "outputs": [
    {
     "data": {
      "text/plain": [
       "((15580, 13), (3895, 13))"
      ]
     },
     "execution_count": 13,
     "metadata": {},
     "output_type": "execute_result"
    }
   ],
   "source": [
    "from sklearn.model_selection import train_test_split\n",
    "\n",
    "x_train, x_test, y_train, y_test = train_test_split(X, Y, test_size=0.2)\n",
    "\n",
    "x_train.shape, x_test.shape"
   ]
  },
  {
   "cell_type": "code",
   "execution_count": 14,
   "metadata": {},
   "outputs": [
    {
     "data": {
      "text/plain": [
       "((15580,), (3895,))"
      ]
     },
     "execution_count": 14,
     "metadata": {},
     "output_type": "execute_result"
    }
   ],
   "source": [
    "y_train.shape, y_test.shape"
   ]
  },
  {
   "cell_type": "code",
   "execution_count": 18,
   "metadata": {},
   "outputs": [],
   "source": [
    "from sklearn.linear_model import LogisticRegression\n",
    "\n",
    "# The algorithm to use in optimization is **liblinear**\n",
    "# It is good choice for small datsets and binary classification\n",
    "\n",
    "logistic_model = LogisticRegression(solver='liblinear').fit(x_train, y_train)"
   ]
  },
  {
   "cell_type": "markdown",
   "metadata": {},
   "source": [
    "#### When building classificationo problem default way to measure is **accuracy**.\n",
    "#### How many of predicted values are correct!"
   ]
  },
  {
   "cell_type": "code",
   "execution_count": 19,
   "metadata": {},
   "outputs": [
    {
     "name": "stdout",
     "output_type": "stream",
     "text": [
      "Training_score :  0.8182926829268292\n"
     ]
    }
   ],
   "source": [
    "print('Training_score : ', logistic_model.score(x_train, y_train))"
   ]
  },
  {
   "cell_type": "code",
   "execution_count": 20,
   "metadata": {},
   "outputs": [],
   "source": [
    "y_pred = logistic_model.predict(x_test)"
   ]
  },
  {
   "cell_type": "code",
   "execution_count": 21,
   "metadata": {},
   "outputs": [
    {
     "data": {
      "text/html": [
       "<div>\n",
       "<style scoped>\n",
       "    .dataframe tbody tr th:only-of-type {\n",
       "        vertical-align: middle;\n",
       "    }\n",
       "\n",
       "    .dataframe tbody tr th {\n",
       "        vertical-align: top;\n",
       "    }\n",
       "\n",
       "    .dataframe thead th {\n",
       "        text-align: right;\n",
       "    }\n",
       "</style>\n",
       "<table border=\"1\" class=\"dataframe\">\n",
       "  <thead>\n",
       "    <tr style=\"text-align: right;\">\n",
       "      <th></th>\n",
       "      <th>predicted</th>\n",
       "      <th>actual</th>\n",
       "    </tr>\n",
       "  </thead>\n",
       "  <tbody>\n",
       "    <tr>\n",
       "      <th>894</th>\n",
       "      <td>True</td>\n",
       "      <td>True</td>\n",
       "    </tr>\n",
       "    <tr>\n",
       "      <th>487</th>\n",
       "      <td>True</td>\n",
       "      <td>True</td>\n",
       "    </tr>\n",
       "    <tr>\n",
       "      <th>1365</th>\n",
       "      <td>True</td>\n",
       "      <td>False</td>\n",
       "    </tr>\n",
       "    <tr>\n",
       "      <th>1266</th>\n",
       "      <td>False</td>\n",
       "      <td>True</td>\n",
       "    </tr>\n",
       "    <tr>\n",
       "      <th>4640</th>\n",
       "      <td>False</td>\n",
       "      <td>True</td>\n",
       "    </tr>\n",
       "    <tr>\n",
       "      <th>12743</th>\n",
       "      <td>False</td>\n",
       "      <td>False</td>\n",
       "    </tr>\n",
       "    <tr>\n",
       "      <th>15774</th>\n",
       "      <td>True</td>\n",
       "      <td>True</td>\n",
       "    </tr>\n",
       "    <tr>\n",
       "      <th>916</th>\n",
       "      <td>True</td>\n",
       "      <td>True</td>\n",
       "    </tr>\n",
       "    <tr>\n",
       "      <th>9577</th>\n",
       "      <td>False</td>\n",
       "      <td>False</td>\n",
       "    </tr>\n",
       "    <tr>\n",
       "      <th>20313</th>\n",
       "      <td>True</td>\n",
       "      <td>True</td>\n",
       "    </tr>\n",
       "  </tbody>\n",
       "</table>\n",
       "</div>"
      ],
      "text/plain": [
       "       predicted  actual\n",
       "894         True    True\n",
       "487         True    True\n",
       "1365        True   False\n",
       "1266       False    True\n",
       "4640       False    True\n",
       "12743      False   False\n",
       "15774       True    True\n",
       "916         True    True\n",
       "9577       False   False\n",
       "20313       True    True"
      ]
     },
     "execution_count": 21,
     "metadata": {},
     "output_type": "execute_result"
    }
   ],
   "source": [
    "df_pred_actual = pd.DataFrame({'predicted': y_pred, 'actual': y_test})\n",
    "\n",
    "df_pred_actual.head(10)"
   ]
  },
  {
   "cell_type": "code",
   "execution_count": 22,
   "metadata": {},
   "outputs": [
    {
     "name": "stdout",
     "output_type": "stream",
     "text": [
      "Testing_score :  0.8274711168164314\n"
     ]
    }
   ],
   "source": [
    "from sklearn.metrics import accuracy_score\n",
    "\n",
    "print('Testing_score : ', accuracy_score(y_test, y_pred))"
   ]
  },
  {
   "cell_type": "markdown",
   "metadata": {},
   "source": [
    "#### As the accuracy is same on predicted value as well as training_data this shows model behaves in same manner on both of them.\n",
    "\n",
    "#### Also 80% accuracy indicates model is decent."
   ]
  },
  {
   "cell_type": "code",
   "execution_count": null,
   "metadata": {},
   "outputs": [],
   "source": []
  }
 ],
 "metadata": {
  "kernelspec": {
   "display_name": "Python 3",
   "language": "python",
   "name": "python3"
  },
  "language_info": {
   "codemirror_mode": {
    "name": "ipython",
    "version": 3
   },
   "file_extension": ".py",
   "mimetype": "text/x-python",
   "name": "python",
   "nbconvert_exporter": "python",
   "pygments_lexer": "ipython3",
   "version": "3.6.9"
  }
 },
 "nbformat": 4,
 "nbformat_minor": 4
}
