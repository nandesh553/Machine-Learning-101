{
 "cells": [
  {
   "cell_type": "markdown",
   "metadata": {},
   "source": [
    "## Gradient\n",
    "* The gradient captures all the partial derivative information of a scalar-valued multivariable function\n",
    "* Gradient points in a direction of steepest ascent.\n",
    "* So finding the gradient of a function will give its steepest ascent\n",
    "* Gradient is vector full of partial derivatives of x\n",
    "* Gradient Descent => Dircetion of steepest ascent\n",
    "\n",
    "TO-DO Gradient descent and contour map\n",
    "\n",
    "> https://www.khanacademy.org/math/multivariable-calculus/multivariable-derivatives/gradient-and-directional-derivatives/v/gradient\n",
    "\n",
    "Let's take a equation(scalar):\n",
    "\n",
    "$$f(x) = x^2.sin(y)$$\n",
    "\n",
    "<!---\n",
    "Explain derivative basic (chain rule and )\n",
    "-->\n",
    "\n",
    "It's partial derivative wrt to x is \n",
    "\n",
    "$$\n",
    "\\frac{\\partial f}{\\partial x} = 2x.sin(y)\n",
    "$$\n",
    "\n",
    "similarly partial derivative wrt to y is \n",
    "\n",
    "$$\n",
    "\\frac{\\partial f}{\\partial y} = x^2.cos(y)\n",
    "$$\n",
    "\n",
    "A gradient is vector of partial derivatives\n",
    "\n",
    "$$\n",
    "\\nabla f(x,y) = \n",
    "\\begin{bmatrix}\n",
    "2x.sin(y)\\\\\n",
    "x^2.cos(y)\n",
    "\\end{bmatrix}\n",
    "$$\n",
    "\n",
    "It takes a scalar value or 2d points and outpts a vector\n",
    "\n",
    "If you do it with n variables the output will be n dimensional vector. Therefore gradient of any function is\n",
    "\n",
    "$$Gradient \\; space \\; is \\; denoted \\; by \\; \\nabla $$\n",
    "\n",
    "$$\n",
    "\\nabla f(x,y) = \n",
    "\\begin{bmatrix}\n",
    "\\frac{\\partial f}{\\partial x}\\\\\n",
    "\\frac{\\partial f}{\\partial y}\n",
    "\\end{bmatrix}\n",
    "$$\n"
   ]
  }
 ],
 "metadata": {
  "kernelspec": {
   "display_name": "Python 3",
   "language": "python",
   "name": "python3"
  },
  "language_info": {
   "codemirror_mode": {
    "name": "ipython",
    "version": 3
   },
   "file_extension": ".py",
   "mimetype": "text/x-python",
   "name": "python",
   "nbconvert_exporter": "python",
   "pygments_lexer": "ipython3",
   "version": "3.6.8"
  }
 },
 "nbformat": 4,
 "nbformat_minor": 4
}
